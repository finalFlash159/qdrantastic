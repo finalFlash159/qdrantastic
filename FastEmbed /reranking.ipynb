{
 "cells": [
  {
   "cell_type": "markdown",
   "metadata": {},
   "source": [
    "We use the `all-MiniLM-L6-v2` dense embedding model (also supported in FastEmbed) as a first-stage retriever and then refine results with `Jina Reranker v2`."
   ]
  },
  {
   "cell_type": "code",
   "execution_count": 1,
   "metadata": {},
   "outputs": [],
   "source": [
    "from fastembed import TextEmbedding\n",
    "from fastembed.rerank.cross_encoder import TextCrossEncoder"
   ]
  },
  {
   "cell_type": "markdown",
   "metadata": {},
   "source": [
    "**Cross encoder** là một kiến trúc mô hình học sâu được sử dụng phổ biến trong các bài toán truy xuất thông tin và xếp hạng. Dưới đây là những điểm chính về cross encoder:\n",
    "\n",
    "- **Xử lý chung cho truy vấn và tài liệu:**\n",
    "\n",
    "    Trong cross encoder, truy vấn và tài liệu được kết hợp (nối chuỗi) thành một đầu vào duy nhất trước khi được đưa qua mô hình (thường là BERT hoặc các transformer khác). Điều này cho phép mô hình xem xét đồng thời tất cả các token của cả truy vấn và tài liệu.\n",
    "\n",
    "- **Tương tác sớm giữa các token:**\n",
    "\n",
    "    Vì truy vấn và tài liệu được xử lý cùng nhau, các token của truy vấn có thể tương tác trực tiếp với các token của tài liệu thông qua các cơ chế attention. Điều này giúp mô hình nắm bắt được mối quan hệ ngữ nghĩa rất chi tiết giữa truy vấn và tài liệu.\n",
    "\n",
    ">Cross encoder là mô hình hiệu quả trong việc đánh giá mối quan hệ giữa truy vấn và tài liệu nhưng lại tốn nhiều thời gian tính toán, nên phù hợp cho việc sắp xếp lại kết quả truy xuất chứ không phải cho việc truy xuất toàn bộ trên dữ liệu lớn."
   ]
  },
  {
   "cell_type": "code",
   "execution_count": 2,
   "metadata": {},
   "outputs": [
    {
     "data": {
      "text/plain": [
       "[{'model': 'Xenova/ms-marco-MiniLM-L-6-v2',\n",
       "  'size_in_GB': 0.08,\n",
       "  'sources': {'hf': 'Xenova/ms-marco-MiniLM-L-6-v2'},\n",
       "  'model_file': 'onnx/model.onnx',\n",
       "  'description': 'MiniLM-L-6-v2 model optimized for re-ranking tasks.',\n",
       "  'license': 'apache-2.0'},\n",
       " {'model': 'Xenova/ms-marco-MiniLM-L-12-v2',\n",
       "  'size_in_GB': 0.12,\n",
       "  'sources': {'hf': 'Xenova/ms-marco-MiniLM-L-12-v2'},\n",
       "  'model_file': 'onnx/model.onnx',\n",
       "  'description': 'MiniLM-L-12-v2 model optimized for re-ranking tasks.',\n",
       "  'license': 'apache-2.0'},\n",
       " {'model': 'BAAI/bge-reranker-base',\n",
       "  'size_in_GB': 1.04,\n",
       "  'sources': {'hf': 'BAAI/bge-reranker-base'},\n",
       "  'model_file': 'onnx/model.onnx',\n",
       "  'description': 'BGE reranker base model for cross-encoder re-ranking.',\n",
       "  'license': 'mit'},\n",
       " {'model': 'jinaai/jina-reranker-v1-tiny-en',\n",
       "  'size_in_GB': 0.13,\n",
       "  'sources': {'hf': 'jinaai/jina-reranker-v1-tiny-en'},\n",
       "  'model_file': 'onnx/model.onnx',\n",
       "  'description': 'Designed for blazing-fast re-ranking with 8K context length and fewer parameters than jina-reranker-v1-turbo-en.',\n",
       "  'license': 'apache-2.0'},\n",
       " {'model': 'jinaai/jina-reranker-v1-turbo-en',\n",
       "  'size_in_GB': 0.15,\n",
       "  'sources': {'hf': 'jinaai/jina-reranker-v1-turbo-en'},\n",
       "  'model_file': 'onnx/model.onnx',\n",
       "  'description': 'Designed for blazing-fast re-ranking with 8K context length.',\n",
       "  'license': 'apache-2.0'},\n",
       " {'model': 'jinaai/jina-reranker-v2-base-multilingual',\n",
       "  'size_in_GB': 1.11,\n",
       "  'sources': {'hf': 'jinaai/jina-reranker-v2-base-multilingual'},\n",
       "  'model_file': 'onnx/model.onnx',\n",
       "  'description': 'A multi-lingual reranker model for cross-encoder re-ranking with 1K context length and sliding window',\n",
       "  'license': 'cc-by-nc-4.0'}]"
      ]
     },
     "execution_count": 2,
     "metadata": {},
     "output_type": "execute_result"
    }
   ],
   "source": [
    "TextCrossEncoder.list_supported_models()"
   ]
  },
  {
   "cell_type": "markdown",
   "metadata": {},
   "source": [
    "### Load model"
   ]
  },
  {
   "cell_type": "markdown",
   "metadata": {},
   "source": [
    "We will vectorize a toy movie description dataset using the all-MiniLM-L6-v2 model and save the embeddings in Qdrant for first-stage retrieval.\n",
    "\n",
    "Then, we will use a cross-encoder reranking model to rerank a small subset of data retrieved in the first stage.\n",
    "\n"
   ]
  },
  {
   "cell_type": "code",
   "execution_count": 4,
   "metadata": {},
   "outputs": [
    {
     "data": {
      "application/vnd.jupyter.widget-view+json": {
       "model_id": "9ae5989b3fd24469b09a3b73ffa5fd6e",
       "version_major": 2,
       "version_minor": 0
      },
      "text/plain": [
       "Fetching 5 files:   0%|          | 0/5 [00:00<?, ?it/s]"
      ]
     },
     "metadata": {},
     "output_type": "display_data"
    },
    {
     "data": {
      "application/vnd.jupyter.widget-view+json": {
       "model_id": "df3b0fba3b9944ac856fc5b76c656a09",
       "version_major": 2,
       "version_minor": 0
      },
      "text/plain": [
       "special_tokens_map.json:   0%|          | 0.00/695 [00:00<?, ?B/s]"
      ]
     },
     "metadata": {},
     "output_type": "display_data"
    },
    {
     "data": {
      "application/vnd.jupyter.widget-view+json": {
       "model_id": "8805c5d6a0014c2ca088d44031d917b0",
       "version_major": 2,
       "version_minor": 0
      },
      "text/plain": [
       "config.json:   0%|          | 0.00/650 [00:00<?, ?B/s]"
      ]
     },
     "metadata": {},
     "output_type": "display_data"
    },
    {
     "data": {
      "application/vnd.jupyter.widget-view+json": {
       "model_id": "940386b8a0064ed186be4b9ee0eba333",
       "version_major": 2,
       "version_minor": 0
      },
      "text/plain": [
       "tokenizer_config.json:   0%|          | 0.00/1.43k [00:00<?, ?B/s]"
      ]
     },
     "metadata": {},
     "output_type": "display_data"
    },
    {
     "data": {
      "application/vnd.jupyter.widget-view+json": {
       "model_id": "25da5b1f42a847d9951249407682da80",
       "version_major": 2,
       "version_minor": 0
      },
      "text/plain": [
       "tokenizer.json:   0%|          | 0.00/712k [00:00<?, ?B/s]"
      ]
     },
     "metadata": {},
     "output_type": "display_data"
    },
    {
     "data": {
      "application/vnd.jupyter.widget-view+json": {
       "model_id": "7d1d36e080534da6980c0b5d2ed8385f",
       "version_major": 2,
       "version_minor": 0
      },
      "text/plain": [
       "model.onnx:   0%|          | 0.00/90.4M [00:00<?, ?B/s]"
      ]
     },
     "metadata": {},
     "output_type": "display_data"
    },
    {
     "data": {
      "application/vnd.jupyter.widget-view+json": {
       "model_id": "715d07f1c79a4b05a0f3be31961034cc",
       "version_major": 2,
       "version_minor": 0
      },
      "text/plain": [
       "Fetching 5 files:   0%|          | 0/5 [00:00<?, ?it/s]"
      ]
     },
     "metadata": {},
     "output_type": "display_data"
    },
    {
     "data": {
      "application/vnd.jupyter.widget-view+json": {
       "model_id": "c3c241e8de9347bdaf27f2b3f53e8a69",
       "version_major": 2,
       "version_minor": 0
      },
      "text/plain": [
       "special_tokens_map.json:   0%|          | 0.00/964 [00:00<?, ?B/s]"
      ]
     },
     "metadata": {},
     "output_type": "display_data"
    },
    {
     "data": {
      "application/vnd.jupyter.widget-view+json": {
       "model_id": "269e29b81d454d459cb5a27678579b5b",
       "version_major": 2,
       "version_minor": 0
      },
      "text/plain": [
       "tokenizer_config.json:   0%|          | 0.00/1.15k [00:00<?, ?B/s]"
      ]
     },
     "metadata": {},
     "output_type": "display_data"
    },
    {
     "data": {
      "application/vnd.jupyter.widget-view+json": {
       "model_id": "a829ee9ee80745b5a6b8e69bcaf2a49a",
       "version_major": 2,
       "version_minor": 0
      },
      "text/plain": [
       "tokenizer.json:   0%|          | 0.00/17.1M [00:00<?, ?B/s]"
      ]
     },
     "metadata": {},
     "output_type": "display_data"
    },
    {
     "data": {
      "application/vnd.jupyter.widget-view+json": {
       "model_id": "928f8e8d67f24c569b9782d2d88969ed",
       "version_major": 2,
       "version_minor": 0
      },
      "text/plain": [
       "config.json:   0%|          | 0.00/1.10k [00:00<?, ?B/s]"
      ]
     },
     "metadata": {},
     "output_type": "display_data"
    },
    {
     "data": {
      "application/vnd.jupyter.widget-view+json": {
       "model_id": "77b22a92aab94ca1b7e44615fa87c85d",
       "version_major": 2,
       "version_minor": 0
      },
      "text/plain": [
       "model.onnx:   0%|          | 0.00/1.11G [00:00<?, ?B/s]"
      ]
     },
     "metadata": {},
     "output_type": "display_data"
    }
   ],
   "source": [
    "dense_embedding_model = TextEmbedding(\"sentence-transformers/all-MiniLM-L6-v2\")\n",
    "reranker = TextCrossEncoder(model_name='jinaai/jina-reranker-v2-base-multilingual')"
   ]
  },
  {
   "cell_type": "markdown",
   "metadata": {},
   "source": [
    "### Data\n"
   ]
  },
  {
   "cell_type": "code",
   "execution_count": 5,
   "metadata": {},
   "outputs": [],
   "source": [
    "# Movie descriptions dataset\n",
    "descriptions = [\"In 1431, Jeanne d'Arc is placed on trial on charges of heresy. The ecclesiastical jurists attempt to force Jeanne to recant her claims of holy visions.\",\n",
    " \"A film projectionist longs to be a detective, and puts his meagre skills to work when he is framed by a rival for stealing his girlfriend's father's pocketwatch.\",\n",
    " \"A group of high-end professional thieves start to feel the heat from the LAPD when they unknowingly leave a clue at their latest heist.\",\n",
    " \"A petty thief with an utter resemblance to a samurai warlord is hired as the lord's double. When the warlord later dies the thief is forced to take up arms in his place.\",\n",
    " \"A young boy named Kubo must locate a magical suit of armour worn by his late father in order to defeat a vengeful spirit from the past.\",\n",
    " \"A biopic detailing the 2 decades that Punjabi Sikh revolutionary Udham Singh spent planning the assassination of the man responsible for the Jallianwala Bagh massacre.\",\n",
    " \"When a machine that allows therapists to enter their patients' dreams is stolen, all hell breaks loose. Only a young female therapist, Paprika, can stop it.\",\n",
    " \"An ordinary word processor has the worst night of his life after he agrees to visit a girl in Soho whom he met that evening at a coffee shop.\",\n",
    " \"A story that revolves around drug abuse in the affluent north Indian State of Punjab and how the youth there have succumbed to it en-masse resulting in a socio-economic decline.\",\n",
    " \"A world-weary political journalist picks up the story of a woman's search for her son, who was taken away from her decades ago after she became pregnant and was forced to live in a convent.\",\n",
    " \"Concurrent theatrical ending of the TV series Neon Genesis Evangelion (1995).\",\n",
    " \"During World War II, a rebellious U.S. Army Major is assigned a dozen convicted murderers to train and lead them into a mass assassination mission of German officers.\",\n",
    " \"The toys are mistakenly delivered to a day-care center instead of the attic right before Andy leaves for college, and it's up to Woody to convince the other toys that they weren't abandoned and to return home.\",\n",
    " \"A soldier fighting aliens gets to relive the same day over and over again, the day restarting every time he dies.\",\n",
    " \"After two male musicians witness a mob hit, they flee the state in an all-female band disguised as women, but further complications set in.\",\n",
    " \"Exiled into the dangerous forest by her wicked stepmother, a princess is rescued by seven dwarf miners who make her part of their household.\",\n",
    " \"A renegade reporter trailing a young runaway heiress for a big story joins her on a bus heading from Florida to New York, and they end up stuck with each other when the bus leaves them behind at one of the stops.\",\n",
    " \"Story of 40-man Turkish task force who must defend a relay station.\",\n",
    " \"Spinal Tap, one of England's loudest bands, is chronicled by film director Marty DiBergi on what proves to be a fateful tour.\",\n",
    " \"Oskar, an overlooked and bullied boy, finds love and revenge through Eli, a beautiful but peculiar girl.\"]"
   ]
  },
  {
   "cell_type": "code",
   "execution_count": 6,
   "metadata": {},
   "outputs": [],
   "source": [
    "descriptions_embeddings = list(\n",
    "    dense_embedding_model.embed(descriptions)\n",
    ")"
   ]
  },
  {
   "cell_type": "markdown",
   "metadata": {},
   "source": [
    "### Upload the embeddings to Qdrant (local)."
   ]
  },
  {
   "cell_type": "markdown",
   "metadata": {},
   "source": [
    "Qdrant Client offers a simple in-memory mode, allowing you to experiment locally with small data volumes.\n",
    "Alternatively, you can use <span style=\"color:red\">a free cluster</span> in Qdrant Cloud for experiments.\n",
    "\n"
   ]
  },
  {
   "cell_type": "code",
   "execution_count": 7,
   "metadata": {},
   "outputs": [],
   "source": [
    "from qdrant_client import QdrantClient, models\n",
    "\n",
    "qdrant_client = QdrantClient(\":memory:\") # Qdrant is running from RAM."
   ]
  },
  {
   "cell_type": "markdown",
   "metadata": {},
   "source": [
    "Crete a <span style=\"color:red\">collection</span> with movie data"
   ]
  },
  {
   "cell_type": "code",
   "execution_count": 8,
   "metadata": {},
   "outputs": [
    {
     "data": {
      "text/plain": [
       "True"
      ]
     },
     "execution_count": 8,
     "metadata": {},
     "output_type": "execute_result"
    }
   ],
   "source": [
    "qdrant_client.create_collection(\n",
    "    collection_name=\"movies\",\n",
    "    vectors_config={\n",
    "        \"embedding\": models.VectorParams(\n",
    "            size=384, #size of `all-MiniLM-L6-v2` embeddings\n",
    "            distance=models.Distance.COSINE\n",
    "        )\n",
    "    }\n",
    ")"
   ]
  },
  {
   "cell_type": "markdown",
   "metadata": {},
   "source": [
    "Upload the embeddings"
   ]
  },
  {
   "cell_type": "code",
   "execution_count": 9,
   "metadata": {},
   "outputs": [],
   "source": [
    "qdrant_client.upload_points(\n",
    "    collection_name=\"movies\",\n",
    "    points=[\n",
    "        models.PointStruct(\n",
    "            id=idx,\n",
    "            payload={\n",
    "                \"description\": description\n",
    "            },\n",
    "            vector={\n",
    "                \"embedding\": vector\n",
    "            }\n",
    "        )\n",
    "        for idx, (description, vector) in enumerate(zip(descriptions, \n",
    "                                                        descriptions_embeddings))\n",
    "    ],\n",
    ")"
   ]
  },
  {
   "cell_type": "markdown",
   "metadata": {},
   "source": [
    "### First-stage retrieval\n",
    "Let’s see how relevant the results will be using only an `all-MiniLM-L6-v2-based` dense retriever."
   ]
  },
  {
   "cell_type": "code",
   "execution_count": 10,
   "metadata": {},
   "outputs": [
    {
     "name": "stdout",
     "output_type": "stream",
     "text": [
      "Result number 1 is \"A world-weary political journalist picks up the story of a woman's search for her son, who was taken away from her decades ago after she became pregnant and was forced to live in a convent.\"\n",
      "Result number 2 is \"Exiled into the dangerous forest by her wicked stepmother, a princess is rescued by seven dwarf miners who make her part of their household.\"\n",
      "Result number 3 is \"Oskar, an overlooked and bullied boy, finds love and revenge through Eli, a beautiful but peculiar girl.\"\n",
      "Result number 4 is \"A renegade reporter trailing a young runaway heiress for a big story joins her on a bus heading from Florida to New York, and they end up stuck with each other when the bus leaves them behind at one of the stops.\"\n",
      "Result number 5 is \"A story that revolves around drug abuse in the affluent north Indian State of Punjab and how the youth there have succumbed to it en-masse resulting in a socio-economic decline.\"\n",
      "Result number 6 is \"After two male musicians witness a mob hit, they flee the state in an all-female band disguised as women, but further complications set in.\"\n",
      "Result number 7 is \"When a machine that allows therapists to enter their patients' dreams is stolen, all hell breaks loose. Only a young female therapist, Paprika, can stop it.\"\n",
      "Result number 8 is \"An ordinary word processor has the worst night of his life after he agrees to visit a girl in Soho whom he met that evening at a coffee shop.\"\n",
      "Result number 9 is \"A biopic detailing the 2 decades that Punjabi Sikh revolutionary Udham Singh spent planning the assassination of the man responsible for the Jallianwala Bagh massacre.\"\n",
      "Result number 10 is \"In 1431, Jeanne d'Arc is placed on trial on charges of heresy. The ecclesiastical jurists attempt to force Jeanne to recant her claims of holy visions.\"\n"
     ]
    }
   ],
   "source": [
    "query = '''A story about a strong historically significant female figure.'''\n",
    "query_embedded = list(dense_embedding_model.query_embed(query))[0]\n",
    "\n",
    "initial_retrieval = qdrant_client.query_points(\n",
    "    collection_name=\"movies\",\n",
    "    using=\"embedding\",\n",
    "    query=query_embedded,\n",
    "    with_payload=True,\n",
    "    limit=10\n",
    ")\n",
    "\n",
    "description_hits = []\n",
    "for i, hit in enumerate(initial_retrieval.points):\n",
    "    print(f'''Result number {i+1} is \\\"{hit.payload[\"description\"]}\\\"''')\n",
    "    description_hits.append(hit.payload[\"description\"])"
   ]
  },
  {
   "cell_type": "markdown",
   "metadata": {},
   "source": [
    "We can see that the description of “The Messenger: The Story of Joan of Arc”, which is the most fitting, appears 10th in the results.\n",
    "\n",
    "Let’s try refining the order of the retrieved subset with `Jina Reranker v2`. It takes a query and a set of documents (movie descriptions) as input and calculates a relevance score based on token-level interactions between the query and each document.\n",
    "\n"
   ]
  },
  {
   "cell_type": "code",
   "execution_count": 12,
   "metadata": {},
   "outputs": [
    {
     "name": "stdout",
     "output_type": "stream",
     "text": [
      "Reranked result number 1 is \"In 1431, Jeanne d'Arc is placed on trial on charges of heresy. The ecclesiastical jurists attempt to force Jeanne to recant her claims of holy visions.\"\n",
      "Reranked result number 2 is \"Exiled into the dangerous forest by her wicked stepmother, a princess is rescued by seven dwarf miners who make her part of their household.\"\n",
      "Reranked result number 3 is \"Oskar, an overlooked and bullied boy, finds love and revenge through Eli, a beautiful but peculiar girl.\"\n",
      "Reranked result number 4 is \"A world-weary political journalist picks up the story of a woman's search for her son, who was taken away from her decades ago after she became pregnant and was forced to live in a convent.\"\n",
      "Reranked result number 5 is \"A renegade reporter trailing a young runaway heiress for a big story joins her on a bus heading from Florida to New York, and they end up stuck with each other when the bus leaves them behind at one of the stops.\"\n",
      "Reranked result number 6 is \"After two male musicians witness a mob hit, they flee the state in an all-female band disguised as women, but further complications set in.\"\n",
      "Reranked result number 7 is \"When a machine that allows therapists to enter their patients' dreams is stolen, all hell breaks loose. Only a young female therapist, Paprika, can stop it.\"\n",
      "Reranked result number 8 is \"A story that revolves around drug abuse in the affluent north Indian State of Punjab and how the youth there have succumbed to it en-masse resulting in a socio-economic decline.\"\n",
      "Reranked result number 9 is \"An ordinary word processor has the worst night of his life after he agrees to visit a girl in Soho whom he met that evening at a coffee shop.\"\n",
      "Reranked result number 10 is \"A biopic detailing the 2 decades that Punjabi Sikh revolutionary Udham Singh spent planning the assassination of the man responsible for the Jallianwala Bagh massacre.\"\n"
     ]
    }
   ],
   "source": [
    "new_scores = list(reranker.rerank(query, description_hits)) #returns scores between query and each document\n",
    "\n",
    "ranking = [(i, score) for i, score in enumerate(new_scores)] #saving document indices\n",
    "ranking.sort(key=lambda x: x[1], reverse=True) #sorting them in order of relevance defined by reranker\n",
    "\n",
    "for i, rank in enumerate(ranking):\n",
    "    print(f'''Reranked result number {i+1} is \\\"{description_hits[rank[0]]}\\\"''')"
   ]
  },
  {
   "cell_type": "markdown",
   "metadata": {},
   "source": [
    "Rerankers refine search results by reordering retrieved candidates through deeper semantic analysis. For efficiency, they should be applied **only to a small subset of retrieved results.**\n",
    "\n",
    "Balance speed and accuracy in search by leveraging the power of rerankers!"
   ]
  }
 ],
 "metadata": {
  "kernelspec": {
   "display_name": "base",
   "language": "python",
   "name": "python3"
  },
  "language_info": {
   "codemirror_mode": {
    "name": "ipython",
    "version": 3
   },
   "file_extension": ".py",
   "mimetype": "text/x-python",
   "name": "python",
   "nbconvert_exporter": "python",
   "pygments_lexer": "ipython3",
   "version": "3.12.4"
  }
 },
 "nbformat": 4,
 "nbformat_minor": 2
}
