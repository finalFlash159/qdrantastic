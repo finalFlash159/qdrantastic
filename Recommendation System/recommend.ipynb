{
 "cells": [
  {
   "cell_type": "markdown",
   "metadata": {},
   "source": [
    "### Setup"
   ]
  },
  {
   "cell_type": "code",
   "execution_count": 1,
   "metadata": {},
   "outputs": [],
   "source": [
    "import os\n",
    "import pandas as pd\n",
    "import requests\n",
    "from IPython.display import display, HTML\n",
    "from qdrant_client import models,QdrantClient\n",
    "from qdrant_client.http.models import PointStruct, SparseVector, NamedSparseVector\n",
    "from collections import defaultdict\n",
    "from dotenv import load_dotenv\n",
    "load_dotenv()\n",
    "# OMDB API Key - for movie posters\n",
    "omdb_api_key = os.getenv(\"OMDB_API_KEY\")\n",
    "\n",
    "# Collection name\n",
    "collection_name = \"movies\"\n",
    "\n",
    "# Set Qdrant Client\n",
    "qdrant_client = QdrantClient(\n",
    "    os.getenv(\"QDRANT_URL\"),\n",
    "    api_key=os.getenv(\"QDRANT_API_KEY\")\n",
    ")"
   ]
  },
  {
   "cell_type": "markdown",
   "metadata": {},
   "source": [
    "Configure the recommendation engine to retrieve movie posters as output."
   ]
  },
  {
   "cell_type": "code",
   "execution_count": 2,
   "metadata": {},
   "outputs": [],
   "source": [
    "# Function to get movie poster using OMDB API\n",
    "def get_movie_poster(imdb_id, api_key):\n",
    "    url = f\"https://www.omdbapi.com/?i={imdb_id}&apikey={api_key}\"\n",
    "    data = requests.get(url).json()\n",
    "    return data.get('Poster'), data"
   ]
  },
  {
   "cell_type": "markdown",
   "metadata": {},
   "source": [
    "### Prepare the data"
   ]
  },
  {
   "cell_type": "code",
   "execution_count": 3,
   "metadata": {},
   "outputs": [],
   "source": [
    "# Load CSV files\n",
    "ratings_df = pd.read_csv('Movielens Small/ratings.csv', low_memory=False)\n",
    "movies_df = pd.read_csv('Movielens Small/movies.csv', low_memory=False)\n",
    "links = pd.read_csv('Movielens Small/links.csv')\n",
    "\n",
    "# Convert movieId in ratings_df and movies_df to string\n",
    "ratings_df['movieId'] = ratings_df['movieId'].astype(str)\n",
    "movies_df['movieId'] = movies_df['movieId'].astype(str)\n",
    "\n",
    "# Add step to convert imdbId to tt format with leading zeros\n",
    "links['imdbId'] = 'tt' + links['imdbId'].astype(str).str.zfill(7)\n",
    "\n",
    "# Normalize ratings\n",
    "ratings_df['rating'] = (ratings_df['rating'] - ratings_df['rating'].mean()) / ratings_df['rating'].std()\n",
    "\n",
    "# Merge ratings with movie metadata to get movie titles\n",
    "merged_df = ratings_df.merge(movies_df[['movieId', 'title']], left_on='movieId', right_on='movieId', how='inner')\n",
    "\n",
    "# Aggregate ratings to handle duplicate (userId, title) pairs\n",
    "ratings_agg_df = merged_df.groupby(['userId', 'movieId']).rating.mean().reset_index()"
   ]
  },
  {
   "cell_type": "markdown",
   "metadata": {},
   "source": [
    "### Convert to sparse\n",
    "If you want to search across numerous reviews from different users, you can represent these reviews in a sparse matrix.\n",
    "\n"
   ]
  },
  {
   "cell_type": "code",
   "execution_count": 4,
   "metadata": {},
   "outputs": [],
   "source": [
    "# Convert ratings to sparse vectors\n",
    "user_sparse_vectors = defaultdict(lambda: {\"values\": [], \"indices\": []})\n",
    "for row in ratings_agg_df.itertuples():\n",
    "    user_sparse_vectors[row.userId][\"values\"].append(row.rating)\n",
    "    user_sparse_vectors[row.userId][\"indices\"].append(int(row.movieId))"
   ]
  },
  {
   "cell_type": "markdown",
   "metadata": {},
   "source": [
    "![](https://qdrant.tech/blog/collaborative-filtering/collaborative-filtering.png)"
   ]
  },
  {
   "cell_type": "code",
   "execution_count": 5,
   "metadata": {},
   "outputs": [
    {
     "name": "stdout",
     "output_type": "stream",
     "text": [
      "('values', [0.4781093879268121, -0.48109632308148476, 1.4373150989351091, 1.4373150989351091, 1.4373150989351091, 1.4373150989351091, 1.4373150989351091, -0.48109632308148476, 1.4373150989351091, 1.4373150989351091, 0.4781093879268121, 1.4373150989351091, 0.4781093879268121, 1.4373150989351091, 1.4373150989351091, 1.4373150989351091, 0.4781093879268121, 1.4373150989351091, 1.4373150989351091, 0.4781093879268121, 0.4781093879268121, 1.4373150989351091, 1.4373150989351091, 1.4373150989351091, 1.4373150989351091, 1.4373150989351091, 0.4781093879268121, 1.4373150989351091, 1.4373150989351091, 0.4781093879268121, -1.4403020340897816, 1.4373150989351091, 1.4373150989351091, 1.4373150989351091, 1.4373150989351091, 1.4373150989351091, 1.4373150989351091, -0.48109632308148476, 0.4781093879268121, 1.4373150989351091, 1.4373150989351091, 1.4373150989351091, 1.4373150989351091, 1.4373150989351091, 1.4373150989351091, 0.4781093879268121, -0.48109632308148476, -0.48109632308148476, -0.48109632308148476, -0.48109632308148476, 0.4781093879268121, 0.4781093879268121, 1.4373150989351091, 1.4373150989351091, 0.4781093879268121, 1.4373150989351091, 1.4373150989351091, -0.48109632308148476, 1.4373150989351091, 1.4373150989351091, 0.4781093879268121, 1.4373150989351091, 1.4373150989351091, -0.48109632308148476, -0.48109632308148476, 1.4373150989351091, 0.4781093879268121, 0.4781093879268121, 1.4373150989351091, 0.4781093879268121, 0.4781093879268121, 1.4373150989351091, 1.4373150989351091, 0.4781093879268121, 0.4781093879268121, 1.4373150989351091, 0.4781093879268121, 1.4373150989351091, 0.4781093879268121, 1.4373150989351091, 0.4781093879268121, 1.4373150989351091, 0.4781093879268121, 1.4373150989351091, 1.4373150989351091, 1.4373150989351091, -0.48109632308148476, 1.4373150989351091, 0.4781093879268121, 0.4781093879268121, 0.4781093879268121, 1.4373150989351091, 1.4373150989351091, 1.4373150989351091, 1.4373150989351091, 1.4373150989351091, 0.4781093879268121, 1.4373150989351091, 1.4373150989351091, 0.4781093879268121, 0.4781093879268121, -0.48109632308148476, -1.4403020340897816, 0.4781093879268121, 0.4781093879268121, 1.4373150989351091, 1.4373150989351091, 1.4373150989351091, -1.4403020340897816, 0.4781093879268121, 1.4373150989351091, 0.4781093879268121, 1.4373150989351091, -1.4403020340897816, 1.4373150989351091, 0.4781093879268121, -0.48109632308148476, 1.4373150989351091, 0.4781093879268121, 1.4373150989351091, 1.4373150989351091, 0.4781093879268121, 0.4781093879268121, 1.4373150989351091, -0.48109632308148476, 1.4373150989351091, 1.4373150989351091, 1.4373150989351091, 1.4373150989351091, 1.4373150989351091, 1.4373150989351091, 0.4781093879268121, -1.4403020340897816, 0.4781093879268121, 0.4781093879268121, 1.4373150989351091, 0.4781093879268121, 0.4781093879268121, 1.4373150989351091, -0.48109632308148476, 1.4373150989351091, 1.4373150989351091, 1.4373150989351091, 1.4373150989351091, 0.4781093879268121, 0.4781093879268121, 1.4373150989351091, 1.4373150989351091, 1.4373150989351091, 0.4781093879268121, 1.4373150989351091, 1.4373150989351091, 1.4373150989351091, 1.4373150989351091, 1.4373150989351091, -0.48109632308148476, 0.4781093879268121, 1.4373150989351091, 1.4373150989351091, 1.4373150989351091, 0.4781093879268121, 0.4781093879268121, 1.4373150989351091, 1.4373150989351091, 1.4373150989351091, 1.4373150989351091, 0.4781093879268121, 1.4373150989351091, -0.48109632308148476, 0.4781093879268121, -2.3995077450980786, -0.48109632308148476, -0.48109632308148476, 1.4373150989351091, 1.4373150989351091, 1.4373150989351091, 1.4373150989351091, 0.4781093879268121, 0.4781093879268121, 1.4373150989351091, 1.4373150989351091, 1.4373150989351091, 0.4781093879268121, 0.4781093879268121, 0.4781093879268121, 0.4781093879268121, 0.4781093879268121, 1.4373150989351091, 0.4781093879268121, 1.4373150989351091, 0.4781093879268121, 0.4781093879268121, 1.4373150989351091, 1.4373150989351091, 1.4373150989351091, 1.4373150989351091, 0.4781093879268121, 0.4781093879268121, 1.4373150989351091, 0.4781093879268121, 0.4781093879268121, -0.48109632308148476, 0.4781093879268121, 1.4373150989351091, 1.4373150989351091, 0.4781093879268121, 1.4373150989351091, -0.48109632308148476, 1.4373150989351091, 1.4373150989351091, 0.4781093879268121, 0.4781093879268121, 1.4373150989351091, 0.4781093879268121, 0.4781093879268121, 0.4781093879268121, 1.4373150989351091, 0.4781093879268121, 1.4373150989351091, -0.48109632308148476, 1.4373150989351091, -0.48109632308148476, -0.48109632308148476, 0.4781093879268121, -0.48109632308148476, -0.48109632308148476, 0.4781093879268121, 1.4373150989351091, 1.4373150989351091, 1.4373150989351091, 0.4781093879268121, 1.4373150989351091])\n",
      "('indices', [1, 1009, 101, 1023, 1024, 1025, 1029, 1030, 1031, 1032, 1042, 1049, 1060, 1073, 1080, 1089, 1090, 1092, 1097, 110, 1127, 1136, 1196, 1197, 1198, 1206, 1208, 1210, 1213, 1214, 1219, 1220, 1222, 1224, 1226, 1240, 1256, 1258, 1265, 1270, 1275, 1278, 1282, 1291, 1298, 1348, 1377, 1396, 1408, 1445, 1473, 1500, 151, 1517, 1552, 157, 1573, 1580, 1587, 1617, 1620, 1625, 163, 1644, 1676, 1732, 1777, 1793, 1804, 1805, 1920, 1927, 1954, 1967, 2000, 2005, 2012, 2018, 2028, 2033, 2046, 2048, 2054, 2058, 2078, 2090, 2093, 2094, 2096, 2099, 2105, 2115, 2116, 2137, 2139, 2141, 2143, 216, 2161, 2174, 2193, 223, 2253, 2268, 2273, 2291, 231, 2329, 2338, 235, 2353, 2366, 2387, 2389, 2395, 2406, 2414, 2427, 2450, 2459, 2470, 2478, 2492, 2502, 2528, 2529, 2542, 2571, 2580, 2596, 260, 2616, 2617, 2628, 2640, 2641, 2644, 2648, 2654, 2657, 2692, 2700, 2716, 2761, 2797, 2826, 2858, 2872, 2899, 2916, 2944, 2947, 2948, 2949, 2959, 296, 2985, 2987, 2991, 2993, 2997, 3, 3033, 3034, 3052, 3053, 3062, 3147, 316, 3168, 3176, 3243, 3247, 3253, 3273, 333, 3386, 3439, 3440, 3441, 3448, 3450, 3479, 3489, 349, 3527, 356, 3578, 3617, 362, 3639, 367, 3671, 3702, 3703, 3729, 3740, 3744, 3793, 3809, 4006, 423, 441, 457, 47, 480, 50, 500, 5060, 527, 543, 552, 553, 590, 592, 593, 596, 6, 608, 648, 661, 673, 70, 733, 736, 780, 804, 919, 923, 940, 943, 954])\n"
     ]
    }
   ],
   "source": [
    "for item in user_sparse_vectors[1].items():\n",
    "    print(item)"
   ]
  },
  {
   "cell_type": "markdown",
   "metadata": {},
   "source": [
    "## Upload the data\n",
    "Here, you will initialize the Qdrant client and create a new collection to store the data. Convert the user ratings to sparse vectors and include the `movieId` in the payload."
   ]
  },
  {
   "cell_type": "markdown",
   "metadata": {},
   "source": [
    "### Create a collection"
   ]
  },
  {
   "cell_type": "code",
   "execution_count": 6,
   "metadata": {},
   "outputs": [
    {
     "data": {
      "text/plain": [
       "True"
      ]
     },
     "execution_count": 6,
     "metadata": {},
     "output_type": "execute_result"
    }
   ],
   "source": [
    "# Create a new Qdrant collection\n",
    "qdrant_client.create_collection(\n",
    "    collection_name=collection_name,\n",
    "    vectors_config={},\n",
    "    sparse_vectors_config={\n",
    "        \"ratings\": models.SparseVectorParams()\n",
    "    }\n",
    ")"
   ]
  },
  {
   "cell_type": "markdown",
   "metadata": {},
   "source": [
    "### Upload"
   ]
  },
  {
   "cell_type": "code",
   "execution_count": 7,
   "metadata": {},
   "outputs": [],
   "source": [
    "# Define a data generator\n",
    "def data_generator():\n",
    "    for user_id, sparse_vector in user_sparse_vectors.items():\n",
    "        yield PointStruct(\n",
    "            id=user_id,\n",
    "            vector={\"ratings\": SparseVector(\n",
    "                indices=sparse_vector[\"indices\"],\n",
    "                values=sparse_vector[\"values\"]\n",
    "            )},\n",
    "            payload={\"user_id\": user_id, \"movie_id\": sparse_vector[\"indices\"]}\n",
    "        )\n",
    "\n",
    "# Upload points using the data generator\n",
    "qdrant_client.upload_points(\n",
    "    collection_name=collection_name,\n",
    "    points=data_generator()\n",
    ")"
   ]
  },
  {
   "cell_type": "markdown",
   "metadata": {},
   "source": [
    "### Making a recommendation"
   ]
  },
  {
   "cell_type": "code",
   "execution_count": 8,
   "metadata": {},
   "outputs": [],
   "source": [
    "my_ratings = {\n",
    "    603: 1,     # Matrix\n",
    "    13475: 1,   # Star Trek\n",
    "    11: 1,      # Star Wars\n",
    "    1091: -1,   # The Thing\n",
    "    862: 1,     # Toy Story\n",
    "    597: -1,    # Titanic\n",
    "    680: -1,    # Pulp Fiction\n",
    "    13: 1,      # Forrest Gump\n",
    "    120: 1,     # Lord of the Rings\n",
    "    87: -1,     # Indiana Jones\n",
    "    562: -1     # Die Hard\n",
    "}"
   ]
  },
  {
   "cell_type": "code",
   "execution_count": 9,
   "metadata": {},
   "outputs": [],
   "source": [
    "# Create sparse vector from my_ratings\n",
    "def to_vector(ratings):\n",
    "    vector = SparseVector(\n",
    "        values=[],\n",
    "        indices=[]\n",
    "    )\n",
    "    for movie_id, rating in ratings.items():\n",
    "        vector.values.append(rating)\n",
    "        vector.indices.append(movie_id)\n",
    "    return vector"
   ]
  },
  {
   "cell_type": "code",
   "execution_count": 10,
   "metadata": {},
   "outputs": [
    {
     "name": "stderr",
     "output_type": "stream",
     "text": [
      "/var/folders/s2/tr8rp49x6n55zdz1_59v5pj40000gn/T/ipykernel_82715/226800336.py:2: DeprecationWarning: `search` method is deprecated and will be removed in the future. Use `query_points` instead.\n",
      "  results = qdrant_client.search(\n"
     ]
    }
   ],
   "source": [
    "# Perform the search\n",
    "results = qdrant_client.search(\n",
    "    collection_name=collection_name,\n",
    "    query_vector=NamedSparseVector(\n",
    "        name=\"ratings\",\n",
    "        vector=to_vector(my_ratings)\n",
    "    ),\n",
    "    limit=20\n",
    ")\n",
    "\n",
    "# Convert results to scores and sort by score\n",
    "def results_to_scores(results):\n",
    "    movie_scores = defaultdict(lambda: 0)\n",
    "    for result in results:\n",
    "        for movie_id in result.payload[\"movie_id\"]:\n",
    "            movie_scores[movie_id] += result.score\n",
    "    return movie_scores\n",
    "\n",
    "# Convert results to scores and sort by score\n",
    "movie_scores = results_to_scores(results)\n",
    "top_movies = sorted(movie_scores.items(), key=lambda x: x[1], reverse=True)"
   ]
  },
  {
   "cell_type": "code",
   "execution_count": 11,
   "metadata": {},
   "outputs": [
    {
     "data": {
      "text/html": [
       "<div class='movies-container'>\n",
       "        <div class='movie-card'>\n",
       "            <img src=\"https://m.media-amazon.com/images/M/MV5BNDYwNzVjMTItZmU5YS00YjQ5LTljYjgtMjY2NDVmYWMyNWFmXkEyXkFqcGc@._V1_SX300.jpg\" alt=\"Poster\" class=\"movie-poster\">\n",
       "            <div class=\"movie-title\">Forrest Gump</div>\n",
       "            <div class=\"movie-score\">Score: 43.197114299999996</div>\n",
       "        </div>\n",
       "        \n",
       "        <div class='movie-card'>\n",
       "            <img src=\"https://m.media-amazon.com/images/M/MV5BYTViYTE3ZGQtNDBlMC00ZTAyLTkyODMtZGRiZDg0MjA2YThkXkEyXkFqcGc@._V1_SX300.jpg\" alt=\"Poster\" class=\"movie-poster\">\n",
       "            <div class=\"movie-title\">Pulp Fiction</div>\n",
       "            <div class=\"movie-score\">Score: 43.19412739999999</div>\n",
       "        </div>\n",
       "        \n",
       "        <div class='movie-card'>\n",
       "            <img src=\"https://m.media-amazon.com/images/M/MV5BNjk2ODQzNDYxNV5BMl5BanBnXkFtZTgwMTcyNDg4NjE@._V1_SX300.jpg\" alt=\"Poster\" class=\"movie-poster\">\n",
       "            <div class=\"movie-title\">Pretty Woman</div>\n",
       "            <div class=\"movie-score\">Score: 41.277209299999996</div>\n",
       "        </div>\n",
       "        \n",
       "        <div class='movie-card'>\n",
       "            <img src=\"https://m.media-amazon.com/images/M/MV5BMTkxNGFlNDktZmJkNC00MDdhLTg0MTEtZjZiYWI3MGE5NWIwXkEyXkFqcGc@._V1_SX300.jpg\" alt=\"Poster\" class=\"movie-poster\">\n",
       "            <div class=\"movie-title\">Star Wars: Episode V - The Empire Strikes Back</div>\n",
       "            <div class=\"movie-score\">Score: 36.482674200000005</div>\n",
       "        </div>\n",
       "        \n",
       "        <div class='movie-card'>\n",
       "            <img src=\"https://m.media-amazon.com/images/M/MV5BMDI1MDE0OTMtMmI2MS00Yjc2LTg2MTItMWExYTg5NzA1OGUzXkEyXkFqcGc@._V1_SX300.jpg\" alt=\"Poster\" class=\"movie-poster\">\n",
       "            <div class=\"movie-title\">American Beauty</div>\n",
       "            <div class=\"movie-score\">Score: 36.4811807</div>\n",
       "        </div>\n",
       "        </div>"
      ],
      "text/plain": [
       "<IPython.core.display.HTML object>"
      ]
     },
     "metadata": {},
     "output_type": "display_data"
    }
   ],
   "source": [
    "# Create HTML to display top 5 results\n",
    "html_content = \"<div class='movies-container'>\"\n",
    "\n",
    "for movie_id, score in top_movies[:5]:\n",
    "    imdb_id_row = links.loc[links['movieId'] == int(movie_id), 'imdbId']\n",
    "    if not imdb_id_row.empty:\n",
    "        imdb_id = imdb_id_row.values[0]\n",
    "        poster_url, movie_info = get_movie_poster(imdb_id, omdb_api_key)\n",
    "        movie_title = movie_info.get('Title', 'Unknown Title')\n",
    "        \n",
    "        html_content += f\"\"\"\n",
    "        <div class='movie-card'>\n",
    "            <img src=\"{poster_url}\" alt=\"Poster\" class=\"movie-poster\">\n",
    "            <div class=\"movie-title\">{movie_title}</div>\n",
    "            <div class=\"movie-score\">Score: {score}</div>\n",
    "        </div>\n",
    "        \"\"\"\n",
    "    else:\n",
    "        continue  # Skip if imdb_id is not found\n",
    "\n",
    "html_content += \"</div>\"\n",
    "\n",
    "display(HTML(html_content))"
   ]
  },
  {
   "cell_type": "code",
   "execution_count": null,
   "metadata": {},
   "outputs": [],
   "source": []
  }
 ],
 "metadata": {
  "kernelspec": {
   "display_name": "base",
   "language": "python",
   "name": "python3"
  },
  "language_info": {
   "codemirror_mode": {
    "name": "ipython",
    "version": 3
   },
   "file_extension": ".py",
   "mimetype": "text/x-python",
   "name": "python",
   "nbconvert_exporter": "python",
   "pygments_lexer": "ipython3",
   "version": "3.12.4"
  }
 },
 "nbformat": 4,
 "nbformat_minor": 2
}
