{
 "cells": [
  {
   "cell_type": "markdown",
   "metadata": {},
   "source": [
    "### Workflow"
   ]
  },
  {
   "cell_type": "markdown",
   "metadata": {},
   "source": [
    "![workflow](https://qdrant.tech/docs/workflow-neural-search.png)"
   ]
  },
  {
   "cell_type": "markdown",
   "metadata": {},
   "source": [
    "### Prepare dataset"
   ]
  },
  {
   "cell_type": "code",
   "execution_count": 2,
   "metadata": {},
   "outputs": [
    {
     "name": "stdout",
     "output_type": "stream",
     "text": [
      "--2025-02-17 14:09:55--  https://storage.googleapis.com/generall-shared-data/startups_demo.json\n",
      "Đang phân giải storage.googleapis.com (storage.googleapis.com)… 142.250.197.155, 142.250.71.187, 142.250.197.251, ...\n",
      "Kết nối tới storage.googleapis.com (storage.googleapis.com)[142.250.197.155]:443… đã kết nối.\n",
      "Đã gửi yêu cầu HTTP, đang đợi câu trả lời… 200 OK\n",
      "Kích thước: 22205751 (21M) [application/json]\n",
      "Đang ghi vào: “startups_demo.json”\n",
      "\n",
      "startups_demo.json  100%[===================>]  21.18M  5.27MB/s    trong 5.4s \n",
      "\n",
      "2025-02-17 14:10:01 (3.92 MB/s) — đã lưu “startups_demo.json” [22205751/22205751]\n",
      "\n"
     ]
    }
   ],
   "source": [
    "!wget https://storage.googleapis.com/generall-shared-data/startups_demo.json"
   ]
  },
  {
   "cell_type": "code",
   "execution_count": 2,
   "metadata": {},
   "outputs": [],
   "source": [
    "from sentence_transformers import SentenceTransformer\n",
    "import numpy as np\n",
    "import json\n",
    "import pandas as pd\n",
    "from tqdm.notebook import tqdm"
   ]
  },
  {
   "cell_type": "markdown",
   "metadata": {},
   "source": [
    "### Embed model\n",
    "Using a pre-trained model called `all-MiniLM-L6-v2`. This is a performance-optimized sentence embedding model"
   ]
  },
  {
   "cell_type": "code",
   "execution_count": 4,
   "metadata": {},
   "outputs": [
    {
     "name": "stderr",
     "output_type": "stream",
     "text": [
      "/opt/anaconda3/lib/python3.12/site-packages/transformers/tokenization_utils_base.py:1601: FutureWarning: `clean_up_tokenization_spaces` was not set. It will be set to `True` by default. This behavior will be depracted in transformers v4.45, and will be then set to `False` by default. For more details check this issue: https://github.com/huggingface/transformers/issues/31884\n",
      "  warnings.warn(\n"
     ]
    }
   ],
   "source": [
    "model = SentenceTransformer(\n",
    "    \"all-MiniLM-L6-v2\", device=\"cpu\"\n",
    ")  # or device=\"cuda\" if have a GPU"
   ]
  },
  {
   "cell_type": "code",
   "execution_count": 5,
   "metadata": {},
   "outputs": [],
   "source": [
    "# Load the data\n",
    "df = pd.read_json(\"./startups_demo.json\", lines=True)"
   ]
  },
  {
   "cell_type": "code",
   "execution_count": 6,
   "metadata": {},
   "outputs": [
    {
     "data": {
      "text/html": [
       "<div>\n",
       "<style scoped>\n",
       "    .dataframe tbody tr th:only-of-type {\n",
       "        vertical-align: middle;\n",
       "    }\n",
       "\n",
       "    .dataframe tbody tr th {\n",
       "        vertical-align: top;\n",
       "    }\n",
       "\n",
       "    .dataframe thead th {\n",
       "        text-align: right;\n",
       "    }\n",
       "</style>\n",
       "<table border=\"1\" class=\"dataframe\">\n",
       "  <thead>\n",
       "    <tr style=\"text-align: right;\">\n",
       "      <th></th>\n",
       "      <th>name</th>\n",
       "      <th>images</th>\n",
       "      <th>alt</th>\n",
       "      <th>description</th>\n",
       "      <th>link</th>\n",
       "      <th>city</th>\n",
       "    </tr>\n",
       "  </thead>\n",
       "  <tbody>\n",
       "    <tr>\n",
       "      <th>0</th>\n",
       "      <td>SaferCodes</td>\n",
       "      <td>https://safer.codes/img/brand/logo-icon.png</td>\n",
       "      <td>SaferCodes Logo QR codes generator system form...</td>\n",
       "      <td>QR codes systems for COVID-19.\\nSimple tools f...</td>\n",
       "      <td>https://safer.codes</td>\n",
       "      <td>Chicago</td>\n",
       "    </tr>\n",
       "    <tr>\n",
       "      <th>1</th>\n",
       "      <td>Human Practice</td>\n",
       "      <td>https://d1qb2nb5cznatu.cloudfront.net/startups...</td>\n",
       "      <td>Human Practice -  health care information tech...</td>\n",
       "      <td>Point-of-care word of mouth\\nPreferral is a mo...</td>\n",
       "      <td>http://humanpractice.com</td>\n",
       "      <td>Chicago</td>\n",
       "    </tr>\n",
       "    <tr>\n",
       "      <th>2</th>\n",
       "      <td>StyleSeek</td>\n",
       "      <td>https://d1qb2nb5cznatu.cloudfront.net/startups...</td>\n",
       "      <td>StyleSeek -  e-commerce fashion mass customiza...</td>\n",
       "      <td>Personalized e-commerce for lifestyle products...</td>\n",
       "      <td>http://styleseek.com</td>\n",
       "      <td>Chicago</td>\n",
       "    </tr>\n",
       "    <tr>\n",
       "      <th>3</th>\n",
       "      <td>Scout</td>\n",
       "      <td>https://d1qb2nb5cznatu.cloudfront.net/startups...</td>\n",
       "      <td>Scout -  security consumer electronics interne...</td>\n",
       "      <td>Hassle-free Home Security\\nScout is a self-ins...</td>\n",
       "      <td>http://www.scoutalarm.com</td>\n",
       "      <td>Chicago</td>\n",
       "    </tr>\n",
       "    <tr>\n",
       "      <th>4</th>\n",
       "      <td>Invitation codes</td>\n",
       "      <td>https://invitation.codes/img/inv-brand-fb3.png</td>\n",
       "      <td>Invitation App - Share referral codes community</td>\n",
       "      <td>The referral community\\nInvitation App is a so...</td>\n",
       "      <td>https://invitation.codes</td>\n",
       "      <td>Chicago</td>\n",
       "    </tr>\n",
       "    <tr>\n",
       "      <th>...</th>\n",
       "      <td>...</td>\n",
       "      <td>...</td>\n",
       "      <td>...</td>\n",
       "      <td>...</td>\n",
       "      <td>...</td>\n",
       "      <td>...</td>\n",
       "    </tr>\n",
       "    <tr>\n",
       "      <th>40469</th>\n",
       "      <td>Drunken Moose</td>\n",
       "      <td>https://d1qb2nb5cznatu.cloudfront.net/startups...</td>\n",
       "      <td>Drunken Moose -  digital media advertising des...</td>\n",
       "      <td>Branding and Marketing Consultancy Agency\\nHel...</td>\n",
       "      <td>http://www.drunkenmoose.com.au</td>\n",
       "      <td>Sydney</td>\n",
       "    </tr>\n",
       "    <tr>\n",
       "      <th>40470</th>\n",
       "      <td>AA Adonis Rubbish Removals</td>\n",
       "      <td>https://d1qb2nb5cznatu.cloudfront.net/startups...</td>\n",
       "      <td>AA Adonis Rubbish Removals -  cleaning</td>\n",
       "      <td>Rubbish Removals Sydney\\nAA Adonis Rubbish Rem...</td>\n",
       "      <td>http://www.aaadonisrubbishremovals.com.au/</td>\n",
       "      <td>Sydney</td>\n",
       "    </tr>\n",
       "    <tr>\n",
       "      <th>40471</th>\n",
       "      <td>QualityTrade</td>\n",
       "      <td>https://d1qb2nb5cznatu.cloudfront.net/startups...</td>\n",
       "      <td>QualityTrade -  B2B</td>\n",
       "      <td>Merit based wholesale trade platform. \\nQualit...</td>\n",
       "      <td>https://www.qualitytrade.com/</td>\n",
       "      <td>Sydney</td>\n",
       "    </tr>\n",
       "    <tr>\n",
       "      <th>40472</th>\n",
       "      <td>The Myer Family Company</td>\n",
       "      <td>https://d1qb2nb5cznatu.cloudfront.net/startups...</td>\n",
       "      <td>The Myer Family Company -</td>\n",
       "      <td>MFCo is a family office specialising in design...</td>\n",
       "      <td>http://www.mfco.com.au/</td>\n",
       "      <td>Sydney</td>\n",
       "    </tr>\n",
       "    <tr>\n",
       "      <th>40473</th>\n",
       "      <td>Harry Georje</td>\n",
       "      <td>https://d1qb2nb5cznatu.cloudfront.net/startups...</td>\n",
       "      <td>Harry Georje -  e-commerce jewelry Fine jewelry</td>\n",
       "      <td>Custom Made Jewelry Online!\\nHarry Georje Desi...</td>\n",
       "      <td>http://harrygeorjediamonds.com.au</td>\n",
       "      <td>Sydney</td>\n",
       "    </tr>\n",
       "  </tbody>\n",
       "</table>\n",
       "<p>40474 rows × 6 columns</p>\n",
       "</div>"
      ],
      "text/plain": [
       "                             name  \\\n",
       "0                      SaferCodes   \n",
       "1                  Human Practice   \n",
       "2                       StyleSeek   \n",
       "3                           Scout   \n",
       "4                Invitation codes   \n",
       "...                           ...   \n",
       "40469               Drunken Moose   \n",
       "40470  AA Adonis Rubbish Removals   \n",
       "40471                QualityTrade   \n",
       "40472     The Myer Family Company   \n",
       "40473                Harry Georje   \n",
       "\n",
       "                                                  images  \\\n",
       "0            https://safer.codes/img/brand/logo-icon.png   \n",
       "1      https://d1qb2nb5cznatu.cloudfront.net/startups...   \n",
       "2      https://d1qb2nb5cznatu.cloudfront.net/startups...   \n",
       "3      https://d1qb2nb5cznatu.cloudfront.net/startups...   \n",
       "4         https://invitation.codes/img/inv-brand-fb3.png   \n",
       "...                                                  ...   \n",
       "40469  https://d1qb2nb5cznatu.cloudfront.net/startups...   \n",
       "40470  https://d1qb2nb5cznatu.cloudfront.net/startups...   \n",
       "40471  https://d1qb2nb5cznatu.cloudfront.net/startups...   \n",
       "40472  https://d1qb2nb5cznatu.cloudfront.net/startups...   \n",
       "40473  https://d1qb2nb5cznatu.cloudfront.net/startups...   \n",
       "\n",
       "                                                     alt  \\\n",
       "0      SaferCodes Logo QR codes generator system form...   \n",
       "1      Human Practice -  health care information tech...   \n",
       "2      StyleSeek -  e-commerce fashion mass customiza...   \n",
       "3      Scout -  security consumer electronics interne...   \n",
       "4       Invitation App - Share referral codes community    \n",
       "...                                                  ...   \n",
       "40469  Drunken Moose -  digital media advertising des...   \n",
       "40470             AA Adonis Rubbish Removals -  cleaning   \n",
       "40471                                QualityTrade -  B2B   \n",
       "40472                         The Myer Family Company -    \n",
       "40473    Harry Georje -  e-commerce jewelry Fine jewelry   \n",
       "\n",
       "                                             description  \\\n",
       "0      QR codes systems for COVID-19.\\nSimple tools f...   \n",
       "1      Point-of-care word of mouth\\nPreferral is a mo...   \n",
       "2      Personalized e-commerce for lifestyle products...   \n",
       "3      Hassle-free Home Security\\nScout is a self-ins...   \n",
       "4      The referral community\\nInvitation App is a so...   \n",
       "...                                                  ...   \n",
       "40469  Branding and Marketing Consultancy Agency\\nHel...   \n",
       "40470  Rubbish Removals Sydney\\nAA Adonis Rubbish Rem...   \n",
       "40471  Merit based wholesale trade platform. \\nQualit...   \n",
       "40472  MFCo is a family office specialising in design...   \n",
       "40473  Custom Made Jewelry Online!\\nHarry Georje Desi...   \n",
       "\n",
       "                                             link     city  \n",
       "0                             https://safer.codes  Chicago  \n",
       "1                        http://humanpractice.com  Chicago  \n",
       "2                            http://styleseek.com  Chicago  \n",
       "3                       http://www.scoutalarm.com  Chicago  \n",
       "4                        https://invitation.codes  Chicago  \n",
       "...                                           ...      ...  \n",
       "40469              http://www.drunkenmoose.com.au   Sydney  \n",
       "40470  http://www.aaadonisrubbishremovals.com.au/   Sydney  \n",
       "40471               https://www.qualitytrade.com/   Sydney  \n",
       "40472                     http://www.mfco.com.au/   Sydney  \n",
       "40473           http://harrygeorjediamonds.com.au   Sydney  \n",
       "\n",
       "[40474 rows x 6 columns]"
      ]
     },
     "execution_count": 6,
     "metadata": {},
     "output_type": "execute_result"
    }
   ],
   "source": [
    "df"
   ]
  },
  {
   "cell_type": "markdown",
   "metadata": {},
   "source": [
    "Encode all startup descriptions to create an embedding vector for each. Internally, the `encode` function will split the input into batches, which will significantly speed up the process."
   ]
  },
  {
   "cell_type": "code",
   "execution_count": 7,
   "metadata": {},
   "outputs": [
    {
     "data": {
      "application/vnd.jupyter.widget-view+json": {
       "model_id": "6093f2301a6a441581d5199cf362c2e7",
       "version_major": 2,
       "version_minor": 0
      },
      "text/plain": [
       "Batches:   0%|          | 0/1265 [00:00<?, ?it/s]"
      ]
     },
     "metadata": {},
     "output_type": "display_data"
    }
   ],
   "source": [
    "vectors = model.encode(\n",
    "    [row.alt + \". \" + row.description for row in df.itertuples()],\n",
    "    show_progress_bar=True,\n",
    ")"
   ]
  },
  {
   "cell_type": "code",
   "execution_count": 8,
   "metadata": {},
   "outputs": [
    {
     "data": {
      "text/plain": [
       "(40474, 384)"
      ]
     },
     "execution_count": 8,
     "metadata": {},
     "output_type": "execute_result"
    }
   ],
   "source": [
    "vectors.shape"
   ]
  },
  {
   "cell_type": "markdown",
   "metadata": {},
   "source": [
    "There are 40474 vectors of 384 dimensions. The output layer of the model has this dimension"
   ]
  },
  {
   "cell_type": "markdown",
   "metadata": {},
   "source": [
    "### Save embed vectors"
   ]
  },
  {
   "cell_type": "code",
   "execution_count": 9,
   "metadata": {},
   "outputs": [],
   "source": [
    "np.save(\"startup_vectors.npy\", vectors, allow_pickle=False)"
   ]
  },
  {
   "cell_type": "markdown",
   "metadata": {},
   "source": [
    "### Upload to Qdrant"
   ]
  },
  {
   "cell_type": "code",
   "execution_count": 3,
   "metadata": {},
   "outputs": [],
   "source": [
    "# Import client library\n",
    "from qdrant_client import QdrantClient\n",
    "from qdrant_client.models import VectorParams, Distance\n",
    "\n",
    "client = QdrantClient(\"http://localhost:6333\")"
   ]
  },
  {
   "cell_type": "markdown",
   "metadata": {},
   "source": [
    "#### Create a collection"
   ]
  },
  {
   "cell_type": "code",
   "execution_count": 11,
   "metadata": {},
   "outputs": [],
   "source": [
    "if not client.collection_exists(\"startups\"):\n",
    "    client.create_collection(\n",
    "        collection_name=\"startups\",\n",
    "        vectors_config=VectorParams(size=384, distance=Distance.COSINE),\n",
    "    )"
   ]
  },
  {
   "cell_type": "markdown",
   "metadata": {},
   "source": [
    "#### Create an iterator over the startup data and vectors."
   ]
  },
  {
   "cell_type": "code",
   "execution_count": 12,
   "metadata": {},
   "outputs": [],
   "source": [
    "fd = open(\"./startups_demo.json\")\n",
    "\n",
    "# payload is now an iterator over startup data\n",
    "payload = map(json.loads, fd)\n",
    "\n",
    "# Load all vectors into memory, numpy array works as iterable for itself.\n",
    "# Other option would be to use Mmap, if you don't want to load all data into RAM\n",
    "vectors = np.load(\"./startup_vectors.npy\")"
   ]
  },
  {
   "cell_type": "markdown",
   "metadata": {},
   "source": [
    "#### Upload"
   ]
  },
  {
   "cell_type": "code",
   "execution_count": 13,
   "metadata": {},
   "outputs": [],
   "source": [
    "client.upload_collection(\n",
    "    collection_name=\"startups\",\n",
    "    vectors=vectors,\n",
    "    payload=payload,\n",
    "    ids=None,  # Vector ids will be assigned automatically\n",
    "    batch_size=256,  # How many vectors will be uploaded in a single request?\n",
    ")"
   ]
  },
  {
   "cell_type": "code",
   "execution_count": null,
   "metadata": {},
   "outputs": [],
   "source": []
  }
 ],
 "metadata": {
  "kernelspec": {
   "display_name": "base",
   "language": "python",
   "name": "python3"
  },
  "language_info": {
   "codemirror_mode": {
    "name": "ipython",
    "version": 3
   },
   "file_extension": ".py",
   "mimetype": "text/x-python",
   "name": "python",
   "nbconvert_exporter": "python",
   "pygments_lexer": "ipython3",
   "version": "3.12.4"
  }
 },
 "nbformat": 4,
 "nbformat_minor": 2
}
