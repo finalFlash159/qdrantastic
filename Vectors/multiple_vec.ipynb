{
 "cells": [
  {
   "cell_type": "code",
   "execution_count": 1,
   "metadata": {},
   "outputs": [],
   "source": [
    "import json\n",
    "\n",
    "from typing import List\n",
    "from tokenizers import Tokenizer\n",
    "\n",
    "from FlagEmbedding import BGEM3FlagModel\n"
   ]
  },
  {
   "cell_type": "markdown",
   "metadata": {},
   "source": [
    "### Load model (BGE-M3)"
   ]
  },
  {
   "cell_type": "code",
   "execution_count": 2,
   "metadata": {},
   "outputs": [
    {
     "data": {
      "application/vnd.jupyter.widget-view+json": {
       "model_id": "a1fbec70500e43219fd6b664a5a2ca60",
       "version_major": 2,
       "version_minor": 0
      },
      "text/plain": [
       "Fetching 30 files:   0%|          | 0/30 [00:00<?, ?it/s]"
      ]
     },
     "metadata": {},
     "output_type": "display_data"
    }
   ],
   "source": [
    "\n",
    "model = BGEM3FlagModel('BAAI/bge-m3',  \n",
    "                       use_fp16=True) # Setting use_fp16 to True speeds up computation with a slight performance degradation"
   ]
  },
  {
   "cell_type": "markdown",
   "metadata": {},
   "source": [
    "### Embed data"
   ]
  },
  {
   "cell_type": "code",
   "execution_count": 3,
   "metadata": {},
   "outputs": [],
   "source": [
    "# Movie descriptions dataset\n",
    "descriptions = [\"In 1431, Jeanne d'Arc is placed on trial on charges of heresy. The ecclesiastical jurists attempt to force Jeanne to recant her claims of holy visions.\",\n",
    " \"A film projectionist longs to be a detective, and puts his meagre skills to work when he is framed by a rival for stealing his girlfriend's father's pocketwatch.\",\n",
    " \"A group of high-end professional thieves start to feel the heat from the LAPD when they unknowingly leave a clue at their latest heist.\",\n",
    " \"A petty thief with an utter resemblance to a samurai warlord is hired as the lord's double. When the warlord later dies the thief is forced to take up arms in his place.\",\n",
    " \"A young boy named Kubo must locate a magical suit of armour worn by his late father in order to defeat a vengeful spirit from the past.\",\n",
    " \"A biopic detailing the 2 decades that Punjabi Sikh revolutionary Udham Singh spent planning the assassination of the man responsible for the Jallianwala Bagh massacre.\",\n",
    " \"When a machine that allows therapists to enter their patients' dreams is stolen, all hell breaks loose. Only a young female therapist, Paprika, can stop it.\",\n",
    " \"An ordinary word processor has the worst night of his life after he agrees to visit a girl in Soho whom he met that evening at a coffee shop.\",\n",
    " \"A story that revolves around drug abuse in the affluent north Indian State of Punjab and how the youth there have succumbed to it en-masse resulting in a socio-economic decline.\",\n",
    " \"A world-weary political journalist picks up the story of a woman's search for her son, who was taken away from her decades ago after she became pregnant and was forced to live in a convent.\",\n",
    " \"Concurrent theatrical ending of the TV series Neon Genesis Evangelion (1995).\",\n",
    " \"During World War II, a rebellious U.S. Army Major is assigned a dozen convicted murderers to train and lead them into a mass assassination mission of German officers.\",\n",
    " \"The toys are mistakenly delivered to a day-care center instead of the attic right before Andy leaves for college, and it's up to Woody to convince the other toys that they weren't abandoned and to return home.\",\n",
    " \"A soldier fighting aliens gets to relive the same day over and over again, the day restarting every time he dies.\",\n",
    " \"After two male musicians witness a mob hit, they flee the state in an all-female band disguised as women, but further complications set in.\",\n",
    " \"Exiled into the dangerous forest by her wicked stepmother, a princess is rescued by seven dwarf miners who make her part of their household.\",\n",
    " \"A renegade reporter trailing a young runaway heiress for a big story joins her on a bus heading from Florida to New York, and they end up stuck with each other when the bus leaves them behind at one of the stops.\",\n",
    " \"Story of 40-man Turkish task force who must defend a relay station.\",\n",
    " \"Spinal Tap, one of England's loudest bands, is chronicled by film director Marty DiBergi on what proves to be a fateful tour.\",\n",
    " \"Oskar, an overlooked and bullied boy, finds love and revenge through Eli, a beautiful but peculiar girl.\"]"
   ]
  },
  {
   "cell_type": "code",
   "execution_count": 4,
   "metadata": {},
   "outputs": [
    {
     "name": "stderr",
     "output_type": "stream",
     "text": [
      "You're using a XLMRobertaTokenizerFast tokenizer. Please note that with a fast tokenizer, using the `__call__` method is faster than using a method to encode the text followed by a call to the `pad` method to get a padded encoding.\n"
     ]
    }
   ],
   "source": [
    "embeddings = model.encode(descriptions, return_dense=True, return_sparse=True, return_colbert_vecs=True)"
   ]
  },
  {
   "cell_type": "code",
   "execution_count": 5,
   "metadata": {},
   "outputs": [],
   "source": [
    "dense_embeddings = list(embeddings['dense_vecs'])\n",
    "sparse_embeddings = list(embeddings['lexical_weights'])\n",
    "colbert_embeddings = list(embeddings['colbert_vecs'])"
   ]
  },
  {
   "cell_type": "markdown",
   "metadata": {},
   "source": [
    "### Check dimension"
   ]
  },
  {
   "cell_type": "code",
   "execution_count": 6,
   "metadata": {},
   "outputs": [
    {
     "data": {
      "text/plain": [
       "((42, 1024), (44, 1024))"
      ]
     },
     "execution_count": 6,
     "metadata": {},
     "output_type": "execute_result"
    }
   ],
   "source": [
    "colbert_embeddings[0].shape, colbert_embeddings[1].shape"
   ]
  },
  {
   "cell_type": "code",
   "execution_count": 7,
   "metadata": {},
   "outputs": [
    {
     "data": {
      "text/plain": [
       "(1024,)"
      ]
     },
     "execution_count": 7,
     "metadata": {},
     "output_type": "execute_result"
    }
   ],
   "source": [
    "dense_embeddings[0].shape"
   ]
  },
  {
   "cell_type": "code",
   "execution_count": 12,
   "metadata": {},
   "outputs": [
    {
     "data": {
      "text/plain": [
       "defaultdict(int,\n",
       "            {'360': 0.0576,\n",
       "             '616': 0.1642,\n",
       "             '5016': 0.293,\n",
       "             '16162': 0.2402,\n",
       "             '86': 0.2198,\n",
       "             '104': 0.189,\n",
       "             '25': 0.06125,\n",
       "             '7614': 0.2036,\n",
       "             '238': 0.1659,\n",
       "             '83': 0.006912,\n",
       "             '158012': 0.1361,\n",
       "             '98': 0.1133,\n",
       "             '110324': 0.2754,\n",
       "             '124666': 0.1661,\n",
       "             '111': 0.0667,\n",
       "             '3688': 0.2006,\n",
       "             '4861': 0.164,\n",
       "             '230907': 0.11053,\n",
       "             '141': 0.01884,\n",
       "             '112811': 0.1666,\n",
       "             '7': 0.007507,\n",
       "             '81887': 0.1313,\n",
       "             '37772': 0.1365,\n",
       "             '456': 0.07477,\n",
       "             '36520': 0.1991,\n",
       "             '140526': 0.1456,\n",
       "             '739': 0.0752,\n",
       "             '538': 0.0563,\n",
       "             '37831': 0.2269})"
      ]
     },
     "execution_count": 12,
     "metadata": {},
     "output_type": "execute_result"
    }
   ],
   "source": [
    "sparse_embeddings[0]"
   ]
  },
  {
   "cell_type": "markdown",
   "metadata": {},
   "source": [
    "### Connect to qdrant"
   ]
  },
  {
   "cell_type": "code",
   "execution_count": 8,
   "metadata": {},
   "outputs": [
    {
     "data": {
      "text/plain": [
       "True"
      ]
     },
     "execution_count": 8,
     "metadata": {},
     "output_type": "execute_result"
    }
   ],
   "source": [
    "import os\n",
    "from dotenv import load_dotenv\n",
    "from qdrant_client import QdrantClient, models d"
   ]
  },
  {
   "cell_type": "code",
   "execution_count": 9,
   "metadata": {},
   "outputs": [
    {
     "name": "stdout",
     "output_type": "stream",
     "text": [
      "collections=[CollectionDescription(name='test_collection')]\n"
     ]
    }
   ],
   "source": [
    "# Load environment variables\n",
    "load_dotenv('.env')\n",
    "\n",
    "# Initialize Qdrant client\n",
    "qdrant_client = QdrantClient(\n",
    "    url=os.getenv(\"QDRANT_URL\"), \n",
    "    api_key=os.getenv(\"QDRANT_API_KEY\"),\n",
    "    timeout=60\n",
    ")\n",
    "\n",
    "print(qdrant_client.ge t_collections())"
   ]
  },
  {
   "cell_type": "markdown",
   "metadata": {},
   "source": [
    "### Create Collection"
   ]
  },
  {
   "cell_type": "code",
   "execution_count": null,
   "metadata": {},
   "outputs": [
    {
     "data": {
      "text/plain": [
       "True"
      ]
     },
     "execution_count": 10,
     "metadata": {},
     "output_type": "execute_result"
    }
   ],
   "source": [
    "# Create a collection\n",
    "qdrant_client.create_collection(\n",
    "    collection_name=\"movies\",\n",
    "    vectors_config={\n",
    "        \"dense\": models.VectorParams(\n",
    "            size=1024,\n",
    "            distance=models.Distance.COSINE,\n",
    "        ),\n",
    "        \"colbert\": models.VectorParams(\n",
    "            size=1024,\n",
    "            distance=models.Distance.COSINE,\n",
    "            multivector_config=models.MultiVectorConfig(\n",
    "                comparator=models.MultiVectorComparator.MAX_SIM\n",
    "            )\n",
    "        ),\n",
    "    },\n",
    "    sparse_vectors_config={\n",
    "        \"sparse\": models.SparseVectorParams()\n",
    "    },\n",
    ")"
   ]
  },
  {
   "cell_type": "code",
   "execution_count": 11,
   "metadata": {},
   "outputs": [
    {
     "name": "stdout",
     "output_type": "stream",
     "text": [
      "collections=[CollectionDescription(name='movies'), CollectionDescription(name='test_collection')]\n"
     ]
    }
   ],
   "source": [
    "print(qdrant_client.get_collections())"
   ]
  },
  {
   "cell_type": "code",
   "execution_count": 13,
   "metadata": {},
   "outputs": [
    {
     "name": "stdout",
     "output_type": "stream",
     "text": [
      "indices=[360, 616, 5016, 16162, 86, 104, 25, 7614, 238, 83, 158012, 98, 110324, 124666, 111, 3688, 4861, 230907, 141, 112811, 7, 81887, 37772, 456, 36520, 140526, 739, 538, 37831] values=[0.057586669921875, 0.1641845703125, 0.29296875, 0.240234375, 0.2198486328125, 0.18896484375, 0.061248779296875, 0.20361328125, 0.1658935546875, 0.0069122314453125, 0.1361083984375, 0.11328125, 0.275390625, 0.1661376953125, 0.06671142578125, 0.2005615234375, 0.1639404296875, 0.11053466796875, 0.0188446044921875, 0.1666259765625, 0.00750732421875, 0.13134765625, 0.136474609375, 0.07476806640625, 0.1990966796875, 0.1456298828125, 0.0751953125, 0.056304931640625, 0.2269287109375]\n",
      "indices=[62, 1346, 13452, 87108, 18, 4989, 7, 47, 186, 10, 149, 100034, 4, 3884, 1919, 10548, 7134, 59376, 4488, 3229, 764, 2674, 297, 43876, 100, 67788, 2069, 169713, 67373, 151002, 35414, 5] values=[0.03570556640625, 0.186767578125, 0.188720703125, 0.180908203125, 0.133544921875, 0.2021484375, 0.0477294921875, 0.08880615234375, 0.1016845703125, 0.043792724609375, 0.17822265625, 0.234130859375, 0.01192474365234375, 0.042144775390625, 0.004150390625, 0.10009765625, 0.16015625, 0.154296875, 0.05902099609375, 0.004360198974609375, 0.011199951171875, 0.17431640625, 0.032440185546875, 0.2291259765625, 0.0302276611328125, 0.1693115234375, 0.079345703125, 0.239990234375, 0.1640625, 0.1593017578125, 0.2705078125, 0.038543701171875]\n",
      "indices=[62, 21115, 111, 11192, 9, 3611, 23182, 6117, 3134, 7, 4034, 47, 12319, 70, 80097, 1295, 3358, 34427, 3229, 1836, 51, 69723, 214, 31358, 10, 29786, 13, 99, 2363, 42850, 764, 1419, 5] values=[0.08526611328125, 0.177490234375, 0.0777587890625, 0.12451171875, 0.00836944580078125, 0.1719970703125, 0.2469482421875, 0.1927490234375, 0.23095703125, 0.122314453125, 0.122802734375, 0.01255035400390625, 0.1790771484375, 0.0838623046875, 0.236083984375, 0.06591796875, 0.1875, 0.253173828125, 0.045318603515625, 0.01047515869140625, 0.0887451171875, 0.15673828125, 0.06884765625, 0.2054443359375, 0.0633544921875, 0.216064453125, 0.1373291015625, 0.06121826171875, 0.037933349609375, 0.1436767578125, 0.169921875, 0.185791015625, 0.1749267578125]\n",
      "indices=[62, 280, 15145, 6117, 4240, 678, 142, 75, 3055, 102337, 6492, 107777, 47, 10, 50438, 8287, 1631, 1484, 71, 83, 1274, 2822, 237, 7822, 7, 41929, 5, 14847, 14432, 14792, 168861, 5646, 1257, 121641, 23, 1919, 3687] values=[0.044036865234375, 0.1439208984375, 0.2244873046875, 0.1805419921875, 0.2227783203125, 0.06256103515625, 0.0546875, 0.0292510986328125, 0.1334228515625, 0.1497802734375, 0.177978515625, 0.18212890625, 0.140625, 0.0306549072265625, 0.16064453125, 0.222412109375, 0.1192626953125, 0.2034912109375, 0.111083984375, 0.052520751953125, 0.1630859375, 0.12457275390625, 0.12646484375, 0.1461181640625, 0.1063232421875, 0.267333984375, 0.0828857421875, 0.0809326171875, 0.09539794921875, 0.1668701171875, 0.18896484375, 0.11376953125, 0.1531982421875, 0.25244140625, 0.05328369140625, 0.041046142578125, 0.1632080078125]\n",
      "indices=[62, 27150, 25299, 24, 4806, 139609, 8110, 64040, 67, 10, 49846, 289, 60813, 111, 16294, 34639, 6, 23432, 19, 390, 1919, 72399, 67373, 23, 12989, 47, 8, 88981, 6272, 429, 7844, 52101, 1295, 70, 11015, 5] values=[0.06732177734375, 0.1805419921875, 0.2313232421875, 0.049102783203125, 0.0333251953125, 0.3505859375, 0.1766357421875, 0.19677734375, 0.11767578125, 0.050201416015625, 0.211669921875, 0.1439208984375, 0.2442626953125, 0.0771484375, 0.1455078125, 0.20361328125, 0.08367919921875, 0.1343994140625, 0.038818359375, 0.043212890625, 0.037384033203125, 0.1622314453125, 0.2308349609375, 0.03802490234375, 0.0904541015625, 0.03875732421875, 0.1488037109375, 0.2322998046875, 0.2091064453125, 0.1402587890625, 0.105224609375, 0.2183837890625, 0.0921630859375, 0.006496429443359375, 0.1741943359375, 0.1575927734375]\n",
      "indices=[62, 3530, 18695, 22443, 214, 116, 8, 23662, 7, 100022, 159, 41336, 98834, 6635, 345, 78439, 25961, 66933, 58136, 70, 110938, 2320, 332, 102778, 100, 71676, 38820, 19287, 177161, 6627, 7612, 5] values=[0.152099609375, 0.1763916015625, 0.2354736328125, 0.11669921875, 0.06390380859375, 0.11181640625, 0.09661865234375, 0.110595703125, 0.0460205078125, 0.186767578125, 0.053802490234375, 0.1673583984375, 0.142578125, 0.0226593017578125, 0.1322021484375, 0.25634765625, 0.2459716796875, 0.09326171875, 0.2197265625, 0.00363922119140625, 0.1761474609375, 0.108154296875, 0.060394287109375, 0.2059326171875, 0.00010031461715698242, 0.1280517578125, 0.2083740234375, 0.218017578125, 0.19970703125, 0.11505126953125, 0.1376953125, 0.10052490234375]\n",
      "indices=[14847, 10, 36279, 450, 114864, 70, 13631, 64370, 47, 30957, 2363, 60264, 25, 48869, 7, 83, 6, 116496, 756, 33600, 36356, 5078, 184, 5, 87293, 27150, 117776, 1419, 4, 25766, 14265, 831, 7279, 442] values=[0.10028076171875, 0.02960205078125, 0.26025390625, 0.00534820556640625, 0.17578125, 0.1656494140625, 0.2626953125, 0.1497802734375, 0.0626220703125, 0.1934814453125, 0.0005249977111816406, 0.20947265625, 0.031890869140625, 0.249267578125, 0.1593017578125, 0.100830078125, 0.022003173828125, 0.274658203125, 0.092529296875, 0.2353515625, 0.1756591796875, 0.14697265625, 0.10546875, 0.037261962890625, 0.12115478515625, 0.1834716796875, 0.2105712890625, 0.1717529296875, 0.01282501220703125, 0.2315673828125, 0.318115234375, 0.1441650390625, 0.2314453125, 0.0882568359375]\n",
      "indices=[893, 23335, 1294, 2565, 14543, 42, 1556, 70, 130481, 17431, 111, 1919, 6897, 7103, 764, 53520, 47, 19922, 10, 23040, 23, 1061, 497, 136565, 435, 450, 105216, 99, 79497, 19927, 5] values=[0.042999267578125, 0.1431884765625, 0.09832763671875, 0.16943359375, 0.235595703125, 0.174560546875, 0.10443115234375, 0.1385498046875, 0.267822265625, 0.260009765625, 0.09613037109375, 0.0618896484375, 0.1326904296875, 0.021209716796875, 0.026763916015625, 0.2037353515625, 0.0338134765625, 0.2396240234375, 0.0931396484375, 0.231201171875, 0.04266357421875, 0.1690673828125, 0.2381591796875, 0.060089111328125, 0.2127685546875, 0.01204681396484375, 0.166748046875, 0.03802490234375, 0.205322265625, 0.2049560546875, 0.04742431640625]\n",
      "indices=[62, 13765, 450, 52831, 3132, 10932, 48683, 128431, 23, 70, 261, 155283, 144477, 42878, 22836, 111, 79275, 136, 3642, 156206, 2685, 765, 42593, 10591, 13482, 47, 442, 22, 147147, 16750, 10, 30355, 165439, 206398, 5] values=[0.2032470703125, 0.240234375, 0.15771484375, 0.142578125, 0.1500244140625, 0.10906982421875, 0.27978515625, 0.260009765625, 0.0877685546875, 0.01861572265625, 0.09356689453125, 0.198974609375, 0.157958984375, 0.177490234375, 0.151123046875, 0.108154296875, 0.32080078125, 0.00594329833984375, 0.040069580078125, 0.220458984375, 0.08746337890625, 0.06927490234375, 0.0784912109375, 0.141845703125, 0.07183837890625, 0.056060791015625, 0.08221435546875, 0.0654296875, 0.1396484375, 0.08905029296875, 0.04083251953125, 0.1358642578125, 0.1729736328125, 0.20703125, 0.1600341796875]\n",
      "indices=[8999, 87690, 53, 68894, 32485, 39580, 7, 1257, 13765, 46667, 33938, 100, 604, 775, 39958, 16065, 1295, 8, 23662, 6650, 2412, 100512, 181036, 168861, 6867, 23, 158, 16274, 5] values=[0.11029052734375, 0.1312255859375, 0.075927734375, 0.2076416015625, 0.21875, 0.11871337890625, 0.0110626220703125, 0.08331298828125, 0.1092529296875, 0.11151123046875, 0.156005859375, 0.1123046875, 0.020294189453125, 0.2081298828125, 0.0872802734375, 0.1126708984375, 0.058929443359375, 0.046173095703125, 0.061065673828125, 0.0242462158203125, 0.025177001953125, 0.0221405029296875, 0.197265625, 0.14208984375, 0.1287841796875, 0.014068603515625, 0.0831298828125, 0.226806640625, 0.005962371826171875]\n",
      "indices=[1657, 163812, 163198, 21533, 86658, 111, 70, 1910, 36549, 799, 191, 172335, 53938, 1830, 175454, 5] values=[0.0882568359375, 0.206787109375, 0.2078857421875, 0.169921875, 0.2393798828125, 0.06707763671875, 0.015594482421875, 0.144775390625, 0.147705078125, 0.1478271484375, 0.1781005859375, 0.227294921875, 0.2080078125, 0.140380859375, 0.265380859375, 0.10919189453125]\n",
      "indices=[133698, 6661, 5550, 1995, 4, 10, 214267, 14, 10821, 345, 5, 294, 126140, 49953, 83, 95486, 297, 54, 3121, 158, 686, 89829, 162882, 1314, 47, 25550, 136, 37105, 2856, 3934, 46889, 110938, 2320, 29752, 111, 30839, 93324, 7] values=[0.2005615234375, 0.097412109375, 0.160400390625, 0.2449951171875, 0.10247802734375, 0.06597900390625, 0.2401123046875, 0.1290283203125, 0.114990234375, 0.10406494140625, 0.1990966796875, 0.10980224609375, 0.1700439453125, 0.236328125, 0.081787109375, 0.187744140625, 0.09539794921875, 0.09857177734375, 0.1595458984375, 0.0631103515625, 0.156005859375, 0.083251953125, 0.20068359375, 0.1424560546875, 0.037384033203125, 0.232666015625, 0.0278472900390625, 0.17138671875, 0.027435302734375, 0.05413818359375, 0.1881103515625, 0.2100830078125, 0.128173828125, 0.2236328125, 0.006237030029296875, 0.2276611328125, 0.1993408203125, 0.01377105712890625]\n",
      "indices=[581, 47, 4778, 621, 121742, 19, 538, 75060, 297, 10, 5155, 8804, 27585, 64457, 111, 70, 243, 1771, 7108, 8108, 99455, 31358, 7, 100, 40466, 4, 442, 1257, 39076, 53, 122991, 3789, 450, 1836, 3542, 18, 32997, 30646, 5368, 5] values=[0.08123779296875, 0.2398681640625, 0.2412109375, 0.04840087890625, 0.18017578125, 0.1077880859375, 0.06805419921875, 0.1885986328125, 0.07415771484375, 0.005840301513671875, 0.098388671875, 0.18017578125, 0.1522216796875, 0.1295166015625, 0.030242919921875, 0.016937255859375, 0.160400390625, 0.16015625, 0.0170135498046875, 0.11065673828125, 0.240966796875, 0.1268310546875, 0.0660400390625, 0.050201416015625, 0.161376953125, 0.0197906494140625, 0.07073974609375, 0.137939453125, 0.23486328125, 0.2261962890625, 0.1876220703125, 0.07232666015625, 0.0185089111328125, 0.0263671875, 0.01448822021484375, 0.0509033203125, 0.12322998046875, 0.1253662109375, 0.11676025390625, 0.05487060546875]\n",
      "indices=[62, 79063, 56, 181952, 66961, 7, 62163, 47, 28702, 272, 70, 5701, 5155, 645, 136, 13438, 456, 17137, 214, 11907, 1733, 764, 14792, 5] values=[0.0443115234375, 0.2115478515625, 0.1583251953125, 0.20703125, 0.195556640625, 0.07000732421875, 0.0972900390625, 0.032257080078125, 0.153076171875, 0.108642578125, 0.0806884765625, 0.1378173828125, 0.1474609375, 0.1458740234375, 0.06549072265625, 0.1544189453125, 0.10345458984375, 0.18701171875, 0.05950927734375, 0.1380615234375, 0.11651611328125, 0.06048583984375, 0.1949462890625, 0.057586669921875]\n",
      "indices=[24372, 6626, 11280, 19612, 72004, 195812, 10, 81158, 5962, 4, 1836, 18738, 13, 70, 11341, 23, 142, 756, 2242, 49100, 8753, 2837, 1234, 52021, 237, 24793, 1284, 53333, 51455, 5256, 5423, 5] values=[0.10711669921875, 0.10003662109375, 0.1746826171875, 0.205078125, 0.1343994140625, 0.1739501953125, 0.049407958984375, 0.21240234375, 0.187744140625, 0.0859375, 0.019317626953125, 0.20166015625, 0.1162109375, 0.027313232421875, 0.16455078125, 0.0689697265625, 0.004150390625, 0.09405517578125, 0.1591796875, 0.11669921875, 0.248779296875, 0.09796142578125, 0.2081298828125, 0.08099365234375, 0.11370849609375, 0.1976318359375, 0.047637939453125, 0.06903076171875, 0.1865234375, 0.08148193359375, 0.0662841796875, 0.097412109375]\n",
      "indices=[5443, 14, 6259, 3934, 70, 169907, 100, 525, 390, 604, 44726, 297, 29954, 432, 9319, 4, 10, 2448, 26531, 83, 114777, 59671, 23403, 22206, 881, 1314, 2750, 3249, 2831, 111, 2363, 197540, 5] values=[0.1292724609375, 0.13525390625, 0.08984375, 0.1156005859375, 0.00760650634765625, 0.1834716796875, 0.1502685546875, 0.15234375, 0.020751953125, 0.08856201171875, 0.1510009765625, 0.114013671875, 0.11395263671875, 0.1138916015625, 0.06903076171875, 0.06903076171875, 0.048980712890625, 0.1646728515625, 0.1929931640625, 0.04449462890625, 0.1895751953125, 0.1524658203125, 0.10504150390625, 0.16552734375, 0.2373046875, 0.14208984375, 0.02630615234375, 0.0828857421875, 0.1302490234375, 0.040008544921875, 0.0242462158203125, 0.1883544921875, 0.1363525390625]\n",
      "indices=[62, 75312, 25183, 105757, 141037, 214, 27150, 11675, 72274, 764, 50964, 7, 100, 6957, 13765, 33284, 604, 98, 10, 5324, 10336, 1295, 52888, 47, 2356, 5753, 4, 1836, 3564, 1257, 179933, 678, 12638, 3789, 70, 31358, 2856, 50155, 99, 1632, 7279, 5] values=[0.0095977783203125, 0.1295166015625, 0.1859130859375, 0.2457275390625, 0.2030029296875, 0.046966552734375, 0.14111328125, 0.07904052734375, 0.1756591796875, 0.103271484375, 0.1923828125, 0.10693359375, 0.042236328125, 0.06573486328125, 0.12335205078125, 0.14599609375, 0.0909423828125, 0.06427001953125, 0.03936767578125, 0.2464599609375, 0.11114501953125, 0.054656982421875, 0.1507568359375, 0.09381103515625, 0.06793212890625, 0.1583251953125, 0.0318603515625, 0.0360107421875, 0.11962890625, 0.06976318359375, 0.228515625, 0.1119384765625, 0.0926513671875, 0.1607666015625, 0.028961181640625, 0.1368408203125, 0.047210693359375, 0.1815185546875, 0.026885986328125, 0.03082275390625, 0.15380859375, 0.039459228515625]\n",
      "indices=[30575, 111, 53804, 669, 43563, 1495, 66211, 37772, 2750, 8110, 65922, 10, 15421, 53, 29398, 5] values=[0.194091796875, 0.07440185546875, 0.185546875, 0.14111328125, 0.253173828125, 0.13818359375, 0.233642578125, 0.2176513671875, 0.051361083984375, 0.1466064453125, 0.262451171875, 0.05316162109375, 0.18896484375, 0.1358642578125, 0.206298828125, 0.0192413330078125]\n",
      "indices=[58383, 289, 50266, 4, 1632, 111, 30715, 25, 459, 34, 18557, 8753, 7, 83, 184843, 6259, 1346, 14364, 13212, 53, 803, 33189, 735, 2367, 23534, 186, 10, 87714, 7844, 9742, 5] values=[0.24462890625, 0.2529296875, 0.327392578125, 0.01119232177734375, 0.09088134765625, 0.0523681640625, 0.23779296875, 0.03143310546875, 0.138671875, 0.1678466796875, 0.161376953125, 0.2373046875, 0.11785888671875, 0.04400634765625, 0.15625, 0.131103515625, 0.173828125, 0.156494140625, 0.125244140625, 0.11468505859375, 0.1307373046875, 0.200439453125, 0.223876953125, 0.00939178466796875, 0.121337890625, 0.0200042724609375, 3.600120544433594e-05, 0.186767578125, 0.164306640625, 0.27587890625, 0.016387939453125]\n",
      "indices=[111833, 4, 142, 645, 64747, 297, 136, 11876, 71516, 25299, 7413, 7, 5161, 52758, 429, 8305, 25318, 10, 34923, 1284, 105482, 23040, 5] values=[0.373779296875, 0.08465576171875, 0.0256195068359375, 0.128662109375, 0.2310791015625, 0.0248870849609375, 0.1251220703125, 0.196044921875, 0.171875, 0.209228515625, 0.1749267578125, 0.07440185546875, 0.2069091796875, 0.2587890625, 0.1871337890625, 0.144775390625, 0.313720703125, 0.026153564453125, 0.2340087890625, 0.13818359375, 0.2646484375, 0.2198486328125, 0.15869140625]\n"
     ]
    }
   ],
   "source": [
    "# Chuyển đổi danh sách các dict thành danh sách các SparseVector\n",
    "converted_sparse_embeddings = []\n",
    "\n",
    "for sparse_dict in sparse_embeddings:\n",
    "    # Chuyển đổi các khóa từ chuỗi thành số nguyên\n",
    "    indices = [int(k) for k in sparse_dict.keys()]\n",
    "    # Lấy các giá trị tương ứng\n",
    "    values = [sparse_dict[k] for k in sparse_dict.keys()]\n",
    "    \n",
    "    # Tạo đối tượng SparseVector\n",
    "    sparse_vector = models.SparseVector(\n",
    "        indices=indices,\n",
    "        values=values\n",
    "    )\n",
    "    \n",
    "    converted_sparse_embeddings.append(sparse_vector)\n",
    "\n",
    "# In kết quả để kiểm tra\n",
    "for vec in converted_sparse_embeddings:\n",
    "    print(vec)"
   ]
  },
  {
   "cell_type": "markdown",
   "metadata": {},
   "source": [
    "### Upload to qdrant"
   ]
  },
  {
   "cell_type": "code",
   "execution_count": 14,
   "metadata": {},
   "outputs": [
    {
     "name": "stdout",
     "output_type": "stream",
     "text": [
      "Done uploading points to Qdrant!\n"
     ]
    }
   ],
   "source": [
    "# create a list of PointStructs\n",
    "points = []\n",
    "for i, desc in enumerate(descriptions):\n",
    "    # Tạo một PointStruct cho mỗi mô tả\n",
    "    # vector[\"dense\"] là 1 vector 1024 chiều\n",
    "    # vector[\"colbert\"] là danh sách các vector (multivector)\n",
    "    # vector[\"sparse\"] là sparse vector (dùng SparseVector)\n",
    "    point = models.PointStruct(\n",
    "        id=i,  # hoặc bạn có thể dùng UUID hoặc bất kỳ id nào\n",
    "        vector={\n",
    "            \"dense\": dense_embeddings[i],\n",
    "            \"colbert\": colbert_embeddings[i],\n",
    "            \"sparse\": converted_sparse_embeddings[i]\n",
    "        },\n",
    "        payload={\n",
    "            \"description\": desc\n",
    "            # Thêm bất kỳ metadata nào khác bạn muốn\n",
    "        }\n",
    "    )\n",
    "    points.append(point)\n",
    "\n",
    "# Gửi batch lên Qdrant\n",
    "qdrant_client.upsert(\n",
    "    collection_name=\"movies\",\n",
    "    points=points\n",
    ")\n",
    "\n",
    "print(\"Done uploading points to Qdrant!\")"
   ]
  }
 ],
 "metadata": {
  "kernelspec": {
   "display_name": "base",
   "language": "python",
   "name": "python3"
  },
  "language_info": {
   "codemirror_mode": {
    "name": "ipython",
    "version": 3
   },
   "file_extension": ".py",
   "mimetype": "text/x-python",
   "name": "python",
   "nbconvert_exporter": "python",
   "pygments_lexer": "ipython3",
   "version": "3.12.4"
  }
 },
 "nbformat": 4,
 "nbformat_minor": 2
}
